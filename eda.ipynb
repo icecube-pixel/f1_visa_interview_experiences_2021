{
 "metadata": {
  "language_info": {
   "codemirror_mode": {
    "name": "ipython",
    "version": 3
   },
   "file_extension": ".py",
   "mimetype": "text/x-python",
   "name": "python",
   "nbconvert_exporter": "python",
   "pygments_lexer": "ipython3",
   "version": "3.8.5"
  },
  "orig_nbformat": 4,
  "kernelspec": {
   "name": "python3",
   "display_name": "Python 3.8.5 64-bit ('f1_visa_interview')"
  },
  "interpreter": {
   "hash": "7319741835937c9a7ccb71e0c1799b3e850519b7bf6441da0617d4324770e27d"
  }
 },
 "nbformat": 4,
 "nbformat_minor": 2,
 "cells": [
  {
   "cell_type": "code",
   "execution_count": 1,
   "metadata": {},
   "outputs": [],
   "source": [
    "import pandas as pd"
   ]
  },
  {
   "cell_type": "code",
   "execution_count": 2,
   "metadata": {},
   "outputs": [
    {
     "output_type": "execute_result",
     "data": {
      "text/plain": [
       "       sender_id                                            message\n",
       "0 -1001285729190  My Visa experience - 07/08/2021\\nApproved✅\\nDe...\n",
       "1 -1001285729190  9th July 2021\\nLocation: Hyderabad\\nAppointmen...\n",
       "2 -1001285729190  July 9th\\nHyderabad Consulate\\nIn time 10:25\\n...\n",
       "3 -1001285729190  9th July 2021\\nChennai VAC(July 4) and VI\\nApp...\n",
       "4 -1001285729190  Visa experience - 8/7/21 \\nApproved✅\\nMumbai c..."
      ],
      "text/html": "<div>\n<style scoped>\n    .dataframe tbody tr th:only-of-type {\n        vertical-align: middle;\n    }\n\n    .dataframe tbody tr th {\n        vertical-align: top;\n    }\n\n    .dataframe thead th {\n        text-align: right;\n    }\n</style>\n<table border=\"1\" class=\"dataframe\">\n  <thead>\n    <tr style=\"text-align: right;\">\n      <th></th>\n      <th>sender_id</th>\n      <th>message</th>\n    </tr>\n  </thead>\n  <tbody>\n    <tr>\n      <th>0</th>\n      <td>-1001285729190</td>\n      <td>My Visa experience - 07/08/2021\\nApproved✅\\nDe...</td>\n    </tr>\n    <tr>\n      <th>1</th>\n      <td>-1001285729190</td>\n      <td>9th July 2021\\nLocation: Hyderabad\\nAppointmen...</td>\n    </tr>\n    <tr>\n      <th>2</th>\n      <td>-1001285729190</td>\n      <td>July 9th\\nHyderabad Consulate\\nIn time 10:25\\n...</td>\n    </tr>\n    <tr>\n      <th>3</th>\n      <td>-1001285729190</td>\n      <td>9th July 2021\\nChennai VAC(July 4) and VI\\nApp...</td>\n    </tr>\n    <tr>\n      <th>4</th>\n      <td>-1001285729190</td>\n      <td>Visa experience - 8/7/21 \\nApproved✅\\nMumbai c...</td>\n    </tr>\n  </tbody>\n</table>\n</div>"
     },
     "metadata": {},
     "execution_count": 2
    }
   ],
   "source": [
    "df = pd.read_csv('Messages_text.csv')\n",
    "df.head()"
   ]
  },
  {
   "source": [
    "## Exploring messages\n",
    "\n",
    "* Its possible that we have empty cells and some jargon messages where the len of the message is < 145 characters.\n",
    "* Note: 145 is not a magic number. After observing messages where the character size < 145, i concluded that the information available was irrelavent. Hence the messages with < 145 characters are ignored. "
   ],
   "cell_type": "markdown",
   "metadata": {}
  },
  {
   "cell_type": "code",
   "execution_count": 6,
   "metadata": {},
   "outputs": [
    {
     "output_type": "stream",
     "name": "stdout",
     "text": [
      "(2397, 2)\nShape of dataframe after dropping nan rows\n(2357, 2)\n"
     ]
    }
   ],
   "source": [
    "# Check for Nan values in messages column.\n",
    "df['message'].isnull().sum()\n",
    "print(df.shape) # (2397, 2)\n",
    "# As there are 40 null values, we can drop the rows as they are of no use\n",
    "\n",
    "df.dropna(inplace=True)\n",
    "print(\"Shape of dataframe after dropping nan rows\")\n",
    "print(df.shape)"
   ]
  },
  {
   "cell_type": "code",
   "execution_count": 11,
   "metadata": {},
   "outputs": [],
   "source": [
    "\n",
    "MESSAGES_LEN_TO_IGNORE = 145\n",
    "\n",
    "df['length_of_message'] = df['message'].apply(lambda x : len(str(x)))\n",
    "# Filter out of the rows with message length < 145\n",
    "df_filter = df[df['length_of_message'] > MESSAGES_LEN_TO_IGNORE]\n"
   ]
  },
  {
   "cell_type": "code",
   "execution_count": 12,
   "metadata": {},
   "outputs": [
    {
     "output_type": "stream",
     "name": "stdout",
     "text": [
      "(2301, 3)\n"
     ]
    }
   ],
   "source": [
    "# The final dataframe after filtering out un-necessary messages \n",
    "print(df_filter.shape)"
   ]
  },
  {
   "source": [
    "## Below attributes will be extracted from messages\n",
    "* [Extracting Status](#extract_status)\n",
    "* Date of the Visa interview\n",
    "* [Extracting location](#extract_location)\n",
    "* Questions asked in VI\n",
    "* Duration\n",
    "* [Extracting University Name](#extract_university)\n"
   ],
   "cell_type": "markdown",
   "metadata": {}
  },
  {
   "source": [
    "### Extracting location\n",
    "<a id='extract_location'></a>\n"
   ],
   "cell_type": "markdown",
   "metadata": {}
  },
  {
   "cell_type": "code",
   "execution_count": 28,
   "metadata": {},
   "outputs": [
    {
     "output_type": "stream",
     "name": "stderr",
     "text": [
      "/home/ubuntu/repos/f1_visa_interview/lib/python3.8/site-packages/pandas/core/frame.py:3607: SettingWithCopyWarning: \nA value is trying to be set on a copy of a slice from a DataFrame.\nTry using .loc[row_indexer,col_indexer] = value instead\n\nSee the caveats in the documentation: https://pandas.pydata.org/pandas-docs/stable/user_guide/indexing.html#returning-a-view-versus-a-copy\n  self._set_item(key, value)\n"
     ]
    }
   ],
   "source": [
    "def get_consulate_location(str_to_check):\n",
    "    known_consulate_locations = ['hyderabad', 'mumbai', 'kolkata', 'delhi', 'chennai', 'hyd', 'bombay', 'malaysia', 'madras']\n",
    "    str_converted_to_lower = str_to_check.lower()\n",
    "    for consulate_location in known_consulate_locations:\n",
    "        if consulate_location in str_converted_to_lower:\n",
    "            return consulate_location\n",
    "\n",
    "\n",
    "df_filter['consulate_location'] = df_filter['message'].apply(get_consulate_location)"
   ]
  },
  {
   "cell_type": "code",
   "execution_count": 32,
   "metadata": {},
   "outputs": [
    {
     "output_type": "stream",
     "name": "stderr",
     "text": [
      "/home/ubuntu/repos/f1_visa_interview/lib/python3.8/site-packages/pandas/core/frame.py:3607: SettingWithCopyWarning: \nA value is trying to be set on a copy of a slice from a DataFrame.\nTry using .loc[row_indexer,col_indexer] = value instead\n\nSee the caveats in the documentation: https://pandas.pydata.org/pandas-docs/stable/user_guide/indexing.html#returning-a-view-versus-a-copy\n  self._set_item(key, value)\n/home/ubuntu/repos/f1_visa_interview/lib/python3.8/site-packages/pandas/core/generic.py:6383: SettingWithCopyWarning: \nA value is trying to be set on a copy of a slice from a DataFrame\n\nSee the caveats in the documentation: https://pandas.pydata.org/pandas-docs/stable/user_guide/indexing.html#returning-a-view-versus-a-copy\n  return self._update_inplace(result)\n"
     ]
    }
   ],
   "source": [
    "mapping_dict = {'bombay' : \"mumbai\", 'hyd' : \"hyderabad\", \"madras\" : \"chennai\"}\n",
    "df_filter['consulate_location'] = df_filter['consulate_location'].apply(lambda x : mapping_dict.get(x) if mapping_dict.get(x) is not None else x )\n",
    "df_filter['consulate_location'].fillna(\"NA\", inplace=True)"
   ]
  },
  {
   "cell_type": "code",
   "execution_count": 34,
   "metadata": {},
   "outputs": [
    {
     "output_type": "stream",
     "name": "stdout",
     "text": [
      "mumbai       912\ndelhi        534\nchennai      340\nhyderabad    302\nkolkata      158\nNA            54\nmalaysia       1\nName: consulate_location, dtype: int64\n"
     ]
    }
   ],
   "source": [
    "print(df_filter.consulate_location.value_counts())\n",
    "df_filter.to_csv(\"Test.csv\", index=False)"
   ]
  },
  {
   "source": [
    "### Extracting Status \n",
    "<a id='extract_status'></a>\n"
   ],
   "cell_type": "markdown",
   "metadata": {}
  },
  {
   "cell_type": "code",
   "execution_count": 35,
   "metadata": {},
   "outputs": [
    {
     "output_type": "stream",
     "name": "stderr",
     "text": [
      "/home/ubuntu/repos/f1_visa_interview/lib/python3.8/site-packages/pandas/core/frame.py:3607: SettingWithCopyWarning: \nA value is trying to be set on a copy of a slice from a DataFrame.\nTry using .loc[row_indexer,col_indexer] = value instead\n\nSee the caveats in the documentation: https://pandas.pydata.org/pandas-docs/stable/user_guide/indexing.html#returning-a-view-versus-a-copy\n  self._set_item(key, value)\n/home/ubuntu/repos/f1_visa_interview/lib/python3.8/site-packages/pandas/core/generic.py:6383: SettingWithCopyWarning: \nA value is trying to be set on a copy of a slice from a DataFrame\n\nSee the caveats in the documentation: https://pandas.pydata.org/pandas-docs/stable/user_guide/indexing.html#returning-a-view-versus-a-copy\n  return self._update_inplace(result)\n"
     ]
    }
   ],
   "source": [
    "def get_visa_status(message):\n",
    "    possible_status = ['approved', 'rejected']\n",
    "    for _status in possible_status:\n",
    "        if _status in message.lower():\n",
    "            return _status\n",
    "\n",
    "df_filter['visa_status'] = df_filter['message'].apply(get_visa_status)\n",
    "df_filter['visa_status'].fillna(\"NA\", inplace=True)\n"
   ]
  },
  {
   "cell_type": "code",
   "execution_count": 37,
   "metadata": {},
   "outputs": [
    {
     "output_type": "execute_result",
     "data": {
      "text/plain": [
       "approved    2027\n",
       "rejected     200\n",
       "NA            74\n",
       "Name: visa_status, dtype: int64"
      ]
     },
     "metadata": {},
     "execution_count": 37
    }
   ],
   "source": [
    "df_filter['visa_status'].value_counts()"
   ]
  },
  {
   "source": [
    "### Extracting University Name\n",
    "<a id='extract_university'></a>\n"
   ],
   "cell_type": "markdown",
   "metadata": {}
  },
  {
   "cell_type": "code",
   "execution_count": 69,
   "metadata": {},
   "outputs": [],
   "source": [
    "df_unv = pd.read_excel('AccreditationData.xlsx', sheet_name='InstituteCampuses')\n",
    "\n",
    "def update_parent_data(location_name, parent_name):\n",
    "    if parent_name == '-':\n",
    "        return location_name\n",
    "    else:\n",
    "        return parent_name\n",
    "\n",
    "df_unv['UniqueName'] = df_unv.apply(lambda x: update_parent_data(x.LocationName, x.ParentName), axis=1)\n",
    "unique_university_names = df_unv['UniqueName'].unique()"
   ]
  },
  {
   "cell_type": "code",
   "execution_count": 70,
   "metadata": {},
   "outputs": [
    {
     "output_type": "stream",
     "name": "stdout",
     "text": [
      "10595\n"
     ]
    }
   ],
   "source": [
    "print(len(unique_university_names))\n",
    "# There are 10595 unique universities across USA\n"
   ]
  },
  {
   "cell_type": "code",
   "execution_count": 75,
   "metadata": {
    "tags": []
   },
   "outputs": [
    {
     "output_type": "stream",
     "name": "stderr",
     "text": [
      "1<00:09, 913.18it/s]\u001b[A\n",
      " 20%|█▉        | 2082/10595 [00:02<00:09, 862.71it/s]\u001b[A\n",
      " 20%|██        | 2171/10595 [00:02<00:09, 844.86it/s]\u001b[A\n",
      " 21%|██▏       | 2257/10595 [00:02<00:09, 842.24it/s]\u001b[A\n",
      " 22%|██▏       | 2343/10595 [00:02<00:10, 819.59it/s]\u001b[A\n",
      " 23%|██▎       | 2426/10595 [00:02<00:10, 777.68it/s]\u001b[A\n",
      " 24%|██▍       | 2532/10595 [00:02<00:09, 853.80it/s]\u001b[A\n",
      " 25%|██▍       | 2630/10595 [00:02<00:08, 887.37it/s]\u001b[A\n",
      " 26%|██▌       | 2731/10595 [00:02<00:08, 922.21it/s]\u001b[A\n",
      " 27%|██▋       | 2825/10595 [00:02<00:08, 891.64it/s]\u001b[A\n",
      " 28%|██▊       | 2937/10595 [00:03<00:08, 953.98it/s]\u001b[A\n",
      " 29%|██▊       | 3034/10595 [00:03<00:09, 828.57it/s]\u001b[A\n",
      " 29%|██▉       | 3121/10595 [00:03<00:09, 827.78it/s]\u001b[A\n",
      " 31%|███       | 3245/10595 [00:03<00:07, 937.84it/s]\u001b[A\n",
      " 32%|███▏      | 3370/10595 [00:03<00:07, 1021.63it/s]\u001b[A\n",
      " 33%|███▎      | 3475/10595 [00:03<00:08, 866.28it/s] \u001b[A\n",
      " 34%|███▎      | 3568/10595 [00:03<00:08, 843.97it/s]\u001b[A\n",
      " 35%|███▍      | 3683/10595 [00:03<00:07, 920.29it/s]\u001b[A\n",
      " 36%|███▌      | 3798/10595 [00:03<00:06, 980.15it/s]\u001b[A\n",
      " 37%|███▋      | 3900/10595 [00:04<00:07, 953.61it/s]\u001b[A\n",
      " 38%|███▊      | 3998/10595 [00:04<00:07, 863.98it/s]\u001b[A\n",
      " 39%|███▊      | 4088/10595 [00:04<00:08, 807.69it/s]\u001b[A\n",
      " 39%|███▉      | 4172/10595 [00:04<00:08, 786.55it/s]\u001b[A\n",
      " 40%|████      | 4253/10595 [00:04<00:08, 769.23it/s]\u001b[A\n",
      " 41%|████      | 4331/10595 [00:04<00:08, 723.93it/s]\u001b[A\n",
      " 42%|████▏     | 4405/10595 [00:04<00:08, 692.41it/s]\u001b[A\n",
      " 42%|████▏     | 4475/10595 [00:04<00:09, 670.58it/s]\u001b[A\n",
      " 43%|████▎     | 4571/10595 [00:05<00:08, 746.89it/s]\u001b[A\n",
      " 44%|████▍     | 4647/10595 [00:05<00:08, 708.51it/s]\u001b[A\n",
      " 45%|████▍     | 4719/10595 [00:05<00:09, 630.53it/s]\u001b[A\n",
      " 46%|████▌     | 4839/10595 [00:05<00:07, 775.81it/s]\u001b[A\n",
      " 47%|████▋     | 4935/10595 [00:05<00:06, 824.20it/s]\u001b[A\n",
      " 48%|████▊     | 5049/10595 [00:05<00:06, 910.37it/s]\u001b[A\n",
      " 49%|████▊     | 5145/10595 [00:05<00:05, 923.14it/s]\u001b[A\n",
      " 50%|████▉     | 5288/10595 [00:05<00:04, 1067.65it/s]\u001b[A\n",
      " 51%|█████     | 5416/10595 [00:05<00:04, 1129.04it/s]\u001b[A\n",
      " 52%|█████▏    | 5540/10595 [00:06<00:04, 1159.72it/s]\u001b[A\n",
      " 53%|█████▎    | 5658/10595 [00:06<00:05, 969.72it/s] \u001b[A\n",
      " 54%|█████▍    | 5762/10595 [00:06<00:05, 875.41it/s]\u001b[A\n",
      " 56%|█████▌    | 5894/10595 [00:06<00:04, 983.70it/s]\u001b[A\n",
      " 57%|█████▋    | 6039/10595 [00:06<00:04, 1104.52it/s]\u001b[A\n",
      " 59%|█████▊    | 6205/10595 [00:06<00:03, 1254.68it/s]\u001b[A\n",
      " 60%|█████▉    | 6337/10595 [00:06<00:03, 1267.13it/s]\u001b[A\n",
      " 61%|██████    | 6468/10595 [00:06<00:03, 1210.86it/s]\u001b[A\n",
      " 62%|██████▏   | 6593/10595 [00:07<00:03, 1091.89it/s]\u001b[A\n",
      " 63%|██████▎   | 6707/10595 [00:07<00:03, 1010.75it/s]\u001b[A\n",
      " 64%|██████▍   | 6812/10595 [00:07<00:03, 996.14it/s] \u001b[A\n",
      " 65%|██████▌   | 6914/10595 [00:07<00:03, 994.92it/s]\u001b[A\n",
      " 67%|██████▋   | 7047/10595 [00:07<00:03, 1083.89it/s]\u001b[A\n",
      " 68%|██████▊   | 7158/10595 [00:07<00:03, 1076.69it/s]\u001b[A\n",
      " 69%|██████▊   | 7268/10595 [00:07<00:03, 1071.50it/s]\u001b[A\n",
      " 70%|██████▉   | 7377/10595 [00:07<00:03, 1053.79it/s]\u001b[A\n",
      " 71%|███████   | 7484/10595 [00:07<00:03, 1022.13it/s]\u001b[A\n",
      " 72%|███████▏  | 7587/10595 [00:08<00:03, 934.10it/s] \u001b[A\n",
      " 73%|███████▎  | 7695/10595 [00:08<00:02, 971.15it/s]\u001b[A\n",
      " 74%|███████▎  | 7794/10595 [00:08<00:02, 975.48it/s]\u001b[A\n",
      " 74%|███████▍  | 7893/10595 [00:08<00:02, 911.06it/s]\u001b[A\n",
      " 75%|███████▌  | 7986/10595 [00:08<00:03, 753.27it/s]\u001b[A\n",
      " 76%|███████▌  | 8067/10595 [00:08<00:03, 748.24it/s]\u001b[A\n",
      " 77%|███████▋  | 8196/10595 [00:08<00:02, 884.82it/s]\u001b[A\n",
      " 78%|███████▊  | 8290/10595 [00:08<00:02, 896.73it/s]\u001b[A\n",
      " 79%|███████▉  | 8388/10595 [00:08<00:02, 917.85it/s]\u001b[A\n",
      " 80%|████████  | 8483/10595 [00:09<00:02, 892.25it/s]\u001b[A\n",
      " 81%|████████  | 8580/10595 [00:09<00:02, 913.05it/s]\u001b[A\n",
      " 82%|████████▏ | 8681/10595 [00:09<00:02, 939.67it/s]\u001b[A\n",
      " 83%|████████▎ | 8777/10595 [00:09<00:02, 888.21it/s]\u001b[A\n",
      " 84%|████████▎ | 8868/10595 [00:09<00:01, 866.01it/s]\u001b[A\n",
      " 85%|████████▍ | 8956/10595 [00:09<00:01, 830.05it/s]\u001b[A\n",
      " 86%|████████▌ | 9082/10595 [00:09<00:01, 945.35it/s]\u001b[A\n",
      " 87%|████████▋ | 9179/10595 [00:09<00:01, 905.26it/s]\u001b[A\n",
      " 88%|████████▊ | 9276/10595 [00:09<00:01, 921.62it/s]\u001b[A\n",
      " 89%|████████▉ | 9410/10595 [00:10<00:01, 1038.62it/s]\u001b[A\n",
      " 90%|████████▉ | 9523/10595 [00:10<00:01, 1063.99it/s]\u001b[A\n",
      " 91%|█████████▏| 9673/10595 [00:10<00:00, 1190.77it/s]\u001b[A\n",
      " 93%|█████████▎| 9823/10595 [00:10<00:00, 1281.19it/s]\u001b[A\n",
      " 94%|█████████▍| 9953/10595 [00:10<00:00, 1245.30it/s]\u001b[A\n",
      " 95%|█████████▌| 10079/10595 [00:10<00:00, 1223.88it/s]\u001b[A\n",
      " 96%|█████████▋| 10203/10595 [00:10<00:00, 1061.97it/s]\u001b[A\n",
      " 98%|█████████▊| 10367/10595 [00:10<00:00, 1212.59it/s]\u001b[A\n",
      "100%|██████████| 10595/10595 [00:11<00:00, 962.65it/s] \n",
      "\n",
      "  0%|          | 0/10595 [00:00<?, ?it/s]\u001b[A\n",
      "  1%|          | 109/10595 [00:00<00:09, 1087.96it/s]\u001b[A\n",
      "  2%|▏         | 225/10595 [00:00<00:09, 1128.69it/s]\u001b[A\n",
      "  3%|▎         | 338/10595 [00:00<00:12, 851.47it/s] \u001b[A\n",
      "  4%|▍         | 466/10595 [00:00<00:10, 990.71it/s]\u001b[A\n",
      "  5%|▌         | 572/10595 [00:00<00:10, 931.11it/s]\u001b[A\n",
      "  6%|▋         | 670/10595 [00:00<00:12, 816.42it/s]\u001b[A\n",
      "  7%|▋         | 763/10595 [00:00<00:11, 846.31it/s]\u001b[A\n",
      "  8%|▊         | 890/10595 [00:00<00:10, 962.28it/s]\u001b[A\n",
      "  9%|▉         | 995/10595 [00:01<00:09, 986.37it/s]\u001b[A\n",
      " 10%|█         | 1097/10595 [00:01<00:09, 976.72it/s]\u001b[A\n",
      " 12%|█▏        | 1222/10595 [00:01<00:08, 1054.63it/s]\u001b[A\n",
      " 13%|█▎        | 1358/10595 [00:01<00:08, 1141.36it/s]\u001b[A\n",
      " 14%|█▍        | 1488/10595 [00:01<00:07, 1184.41it/s]\u001b[A\n",
      " 16%|█▌        | 1664/10595 [00:01<00:06, 1353.10it/s]\u001b[A\n",
      " 17%|█▋        | 1801/10595 [00:01<00:08, 1035.98it/s]\u001b[A\n",
      " 18%|█▊        | 1917/10595 [00:01<00:08, 998.44it/s] \u001b[A\n",
      " 19%|█▉        | 2038/10595 [00:01<00:08, 1048.95it/s]\u001b[A\n",
      " 20%|██        | 2150/10595 [00:02<00:08, 980.99it/s] \u001b[A\n",
      " 21%|██▏       | 2254/10595 [00:02<00:08, 945.53it/s]\u001b[A\n",
      " 22%|██▏       | 2353/10595 [00:02<00:09, 915.23it/s]\u001b[A\n",
      " 23%|██▎       | 2468/10595 [00:02<00:08, 974.07it/s]\u001b[A\n",
      " 24%|██▍       | 2594/10595 [00:02<00:07, 1049.83it/s]\u001b[A\n",
      " 26%|██▌       | 2702/10595 [00:02<00:08, 896.31it/s] \u001b[A\n",
      " 27%|██▋       | 2811/10595 [00:02<00:08, 942.30it/s]\u001b[A\n",
      " 27%|██▋       | 2910/10595 [00:02<00:09, 846.08it/s]\u001b[A\n",
      " 28%|██▊       | 3000/10595 [00:03<00:09, 797.47it/s]\u001b[A\n",
      " 29%|██▉       | 3083/10595 [00:03<00:09, 762.55it/s]\u001b[A\n",
      " 30%|██▉       | 3162/10595 [00:03<00:10, 736.06it/s]\u001b[A\n",
      " 32%|███▏      | 3341/10595 [00:03<00:07, 1004.50it/s]\u001b[A\n",
      " 33%|███▎      | 3447/10595 [00:03<00:07, 937.77it/s] \u001b[A\n",
      " 33%|███▎      | 3546/10595 [00:03<00:07, 947.38it/s]\u001b[A\n",
      " 35%|███▍      | 3676/10595 [00:03<00:06, 1042.28it/s]\u001b[A\n",
      " 36%|███▌      | 3787/10595 [00:03<00:06, 1059.89it/s]\u001b[A\n",
      " 37%|███▋      | 3940/10595 [00:03<00:05, 1191.58it/s]\u001b[A\n",
      " 38%|███▊      | 4062/10595 [00:04<00:05, 1155.94it/s]\u001b[A\n",
      " 39%|███▉      | 4180/10595 [00:04<00:05, 1142.52it/s]\u001b[A\n",
      " 41%|████      | 4302/10595 [00:04<00:05, 1161.62it/s]\u001b[A\n",
      " 42%|████▏     | 4420/10595 [00:04<00:05, 1159.64it/s]\u001b[A\n",
      " 43%|████▎     | 4537/10595 [00:04<00:05, 1151.39it/s]\u001b[A\n",
      " 44%|████▍     | 4653/10595 [00:04<00:05, 1138.63it/s]\u001b[A\n",
      " 45%|████▌     | 4768/10595 [00:04<00:05, 992.05it/s] \u001b[A\n",
      " 46%|████▌     | 4871/10595 [00:04<00:05, 968.80it/s]\u001b[A\n",
      " 47%|████▋     | 4971/10595 [00:05<00:06, 905.09it/s]\u001b[A\n",
      " 48%|████▊     | 5101/10595 [00:05<00:05, 1004.50it/s]\u001b[A\n",
      " 49%|████▉     | 5205/10595 [00:05<00:05, 984.56it/s] \u001b[A\n",
      " 50%|█████     | 5306/10595 [00:05<00:05, 973.10it/s]\u001b[A\n",
      " 51%|█████▏    | 5437/10595 [00:05<00:04, 1065.78it/s]\u001b[A\n",
      " 53%|█████▎    | 5579/10595 [00:05<00:04, 1165.13it/s]\u001b[A\n",
      " 54%|█████▍    | 5698/10595 [00:05<00:04, 1004.97it/s]\u001b[A\n",
      " 55%|█████▍    | 5804/10595 [00:05<00:04, 999.23it/s] \u001b[A\n",
      " 56%|█████▌    | 5908/10595 [00:05<00:04, 1002.67it/s]\u001b[A\n",
      " 57%|█████▋    | 6011/10595 [00:06<00:04, 996.77it/s] \u001b[A\n",
      " 58%|█████▊    | 6113/10595 [00:06<00:04, 996.33it/s]\u001b[A\n",
      " 59%|█████▊    | 6221/10595 [00:06<00:04, 1019.11it/s]\u001b[A\n",
      " 60%|█████▉    | 6324/10595 [00:06<00:04, 964.82it/s] \u001b[A\n",
      " 61%|██████    | 6448/10595 [00:06<00:03, 1040.80it/s]\u001b[A\n",
      " 62%|██████▏   | 6554/10595 [00:06<00:04, 910.48it/s] \u001b[A\n",
      " 63%|██████▎   | 6711/10595 [00:06<00:03, 1082.06it/s]\u001b[A\n",
      " 64%|██████▍   | 6825/10595 [00:06<00:03, 1049.91it/s]\u001b[A\n",
      " 66%|██████▌   | 6941/10595 [00:06<00:03, 1078.43it/s]\u001b[A\n",
      " 67%|██████▋   | 7052/10595 [00:07<00:03, 1036.86it/s]\u001b[A\n",
      " 68%|██████▊   | 7184/10595 [00:07<00:03, 1112.71it/s]\u001b[A\n",
      " 69%|██████▉   | 7298/10595 [00:07<00:03, 982.98it/s] \u001b[A\n",
      " 70%|███████   | 7423/10595 [00:07<00:03, 1050.94it/s]\u001b[A\n",
      " 71%|███████▏  | 7563/10595 [00:07<00:02, 1144.93it/s]\u001b[A\n",
      " 73%|███████▎  | 7682/10595 [00:07<00:02, 1088.07it/s]\u001b[A\n",
      " 74%|███████▍  | 7817/10595 [00:07<00:02, 1157.69it/s]\u001b[A\n",
      " 75%|███████▍  | 7936/10595 [00:07<00:02, 1139.63it/s]\u001b[A\n",
      " 76%|███████▌  | 8052/10595 [00:07<00:02, 951.23it/s] \u001b[A\n",
      " 77%|███████▋  | 8154/10595 [00:08<00:02, 964.91it/s]\u001b[A\n",
      " 78%|███████▊  | 8264/10595 [00:08<00:02, 998.76it/s]\u001b[A\n",
      " 79%|███████▉  | 8405/10595 [00:08<00:01, 1107.66it/s]\u001b[A\n",
      " 80%|████████  | 8520/10595 [00:08<00:01, 1051.03it/s]\u001b[A\n",
      " 81%|████████▏ | 8629/10595 [00:08<00:01, 1015.27it/s]\u001b[A\n",
      " 82%|████████▏ | 8733/10595 [00:08<00:01, 979.06it/s] \u001b[A\n",
      " 83%|████████▎ | 8837/10595 [00:08<00:01, 994.17it/s]\u001b[A\n",
      " 84%|████████▍ | 8943/10595 [00:08<00:01, 1011.69it/s]\u001b[A\n",
      " 86%|████████▌ | 9076/10595 [00:08<00:01, 1098.51it/s]\u001b[A\n",
      " 87%|████████▋ | 9201/10595 [00:09<00:01, 1141.11it/s]\u001b[A\n",
      " 88%|████████▊ | 9332/10595 [00:09<00:01, 1190.22it/s]\u001b[A\n",
      " 89%|████████▉ | 9452/10595 [00:09<00:00, 1157.25it/s]\u001b[A\n",
      " 90%|█████████ | 9569/10595 [00:09<00:00, 1159.86it/s]\u001b[A\n",
      " 91%|█████████▏| 9686/10595 [00:09<00:00, 1135.93it/s]\u001b[A\n",
      " 93%|█████████▎| 9801/10595 [00:09<00:00, 1078.83it/s]\u001b[A\n",
      " 94%|█████████▎| 9931/10595 [00:09<00:00, 1138.34it/s]\u001b[A\n",
      " 95%|█████████▍| 10046/10595 [00:09<00:00, 1104.03it/s]\u001b[A\n",
      " 96%|█████████▌| 10174/10595 [00:09<00:00, 1152.14it/s]\u001b[A\n",
      " 97%|█████████▋| 10290/10595 [00:09<00:00, 1139.46it/s]\u001b[A\n",
      " 98%|█████████▊| 10427/10595 [00:10<00:00, 1205.17it/s]\u001b[A\n",
      "100%|██████████| 10595/10595 [00:10<00:00, 1033.86it/s]\n",
      "\n",
      "  0%|          | 0/10595 [00:00<?, ?it/s]\u001b[A\n",
      "  1%|          | 67/10595 [00:00<00:15, 666.48it/s]\u001b[A\n",
      "  2%|▏         | 207/10595 [00:00<00:09, 1093.28it/s]\u001b[A\n",
      "  3%|▎         | 326/10595 [00:00<00:09, 1133.98it/s]\u001b[A\n",
      "  4%|▍         | 440/10595 [00:00<00:09, 1043.26it/s]\u001b[A\n",
      "  5%|▌         | 562/10595 [00:00<00:09, 1101.94it/s]\u001b[A\n",
      "  6%|▋         | 674/10595 [00:00<00:10, 987.74it/s] \u001b[A\n",
      "  8%|▊         | 802/10595 [00:00<00:09, 1072.41it/s]\u001b[A\n",
      "  9%|▊         | 912/10595 [00:00<00:08, 1078.65it/s]\u001b[A\n",
      " 10%|▉         | 1030/10595 [00:00<00:08, 1105.77it/s]\u001b[A\n",
      " 11%|█         | 1142/10595 [00:01<00:08, 1058.53it/s]\u001b[A\n",
      " 12%|█▏        | 1281/10595 [00:01<00:08, 1153.95it/s]\u001b[A\n",
      " 13%|█▎        | 1406/10595 [00:01<00:07, 1179.96it/s]\u001b[A\n",
      " 14%|█▍        | 1526/10595 [00:01<00:07, 1177.36it/s]\u001b[A\n",
      " 16%|█▌        | 1645/10595 [00:01<00:07, 1173.20it/s]\u001b[A\n",
      " 17%|█▋        | 1763/10595 [00:01<00:07, 1122.62it/s]\u001b[A\n",
      " 18%|█▊        | 1879/10595 [00:01<00:07, 1132.43it/s]\u001b[A\n",
      " 19%|█▉        | 1993/10595 [00:01<00:07, 1123.15it/s]\u001b[A\n",
      " 20%|█▉        | 2106/10595 [00:01<00:07, 1094.28it/s]\u001b[A\n",
      " 21%|██        | 2222/10595 [00:02<00:07, 1113.18it/s]\u001b[A\n",
      " 22%|██▏       | 2334/10595 [00:02<00:07, 1091.61it/s]\u001b[A\n",
      " 23%|██▎       | 2444/10595 [00:02<00:08, 994.24it/s] \u001b[A\n",
      " 24%|██▍       | 2563/10595 [00:02<00:07, 1046.94it/s]\u001b[A\n",
      " 25%|██▌       | 2698/10595 [00:02<00:06, 1130.59it/s]\u001b[A\n",
      " 27%|██▋       | 2813/10595 [00:02<00:06, 1125.13it/s]\u001b[A\n",
      " 28%|██▊       | 2927/10595 [00:02<00:06, 1096.48it/s]\u001b[A\n",
      " 29%|██▊       | 3038/10595 [00:02<00:08, 886.95it/s] \u001b[A\n",
      " 30%|██▉       | 3134/10595 [00:02<00:08, 852.39it/s]\u001b[A\n",
      " 30%|███       | 3224/10595 [00:03<00:08, 853.17it/s]\u001b[A\n",
      " 32%|███▏      | 3346/10595 [00:03<00:07, 947.13it/s]\u001b[A\n",
      " 33%|███▎      | 3474/10595 [00:03<00:06, 1036.02it/s]\u001b[A\n",
      " 34%|███▍      | 3582/10595 [00:03<00:06, 1040.28it/s]\u001b[A\n",
      " 35%|███▍      | 3689/10595 [00:03<00:07, 889.99it/s] \u001b[A\n",
      " 36%|███▌      | 3784/10595 [00:03<00:07, 853.26it/s]\u001b[A\n",
      " 37%|███▋      | 3873/10595 [00:03<00:08, 792.34it/s]\u001b[A\n",
      " 37%|███▋      | 3956/10595 [00:03<00:08, 760.55it/s]\u001b[A\n",
      " 38%|███▊      | 4067/10595 [00:04<00:07, 847.72it/s]\u001b[A\n",
      " 39%|███▉      | 4176/10595 [00:04<00:07, 910.85it/s]\u001b[A\n",
      " 41%|████      | 4305/10595 [00:04<00:06, 1013.96it/s]\u001b[A\n",
      " 42%|████▏     | 4418/10595 [00:04<00:05, 1045.91it/s]\u001b[A\n",
      " 43%|████▎     | 4525/10595 [00:04<00:06, 957.26it/s] \u001b[A\n",
      " 44%|████▎     | 4624/10595 [00:04<00:06, 865.79it/s]\u001b[A\n",
      " 44%|████▍     | 4714/10595 [00:04<00:07, 838.34it/s]\u001b[A\n",
      " 45%|████▌     | 4819/10595 [00:04<00:06, 891.92it/s]\u001b[A\n",
      " 46%|████▋     | 4911/10595 [00:04<00:07, 773.66it/s]\u001b[A\n",
      " 47%|████▋     | 5013/10595 [00:05<00:06, 834.55it/s]\u001b[A\n",
      " 49%|████▊     | 5150/10595 [00:05<00:05, 974.26it/s]\u001b[A\n",
      " 50%|████▉     | 5253/10595 [00:05<00:05, 913.42it/s]\u001b[A\n",
      " 50%|█████     | 5349/10595 [00:05<00:05, 904.46it/s]\u001b[A\n",
      " 51%|█████▏    | 5444/10595 [00:05<00:05, 912.68it/s]\u001b[A\n",
      " 52%|█████▏    | 5538/10595 [00:05<00:05, 885.80it/s]\u001b[A\n",
      " 53%|█████▎    | 5654/10595 [00:05<00:05, 960.99it/s]\u001b[A\n",
      " 54%|█████▍    | 5752/10595 [00:05<00:05, 868.90it/s]\u001b[A\n",
      " 55%|█████▌    | 5842/10595 [00:06<00:05, 810.75it/s]\u001b[A\n",
      " 56%|█████▌    | 5926/10595 [00:06<00:05, 783.52it/s]\u001b[A\n",
      " 57%|█████▋    | 6006/10595 [00:06<00:06, 752.65it/s]\u001b[A\n",
      " 57%|█████▋    | 6085/10595 [00:06<00:05, 762.00it/s]\u001b[A\n",
      " 58%|█████▊    | 6170/10595 [00:06<00:05, 785.99it/s]\u001b[A\n",
      " 60%|█████▉    | 6321/10595 [00:06<00:04, 987.88it/s]\u001b[A\n",
      " 61%|██████    | 6422/10595 [00:06<00:04, 988.15it/s]\u001b[A\n",
      " 62%|██████▏   | 6523/10595 [00:06<00:04, 826.67it/s]\u001b[A\n",
      " 63%|██████▎   | 6624/10595 [00:06<00:04, 870.24it/s]\u001b[A\n",
      " 63%|██████▎   | 6716/10595 [00:07<00:04, 880.14it/s]\u001b[A\n",
      " 64%|██████▍   | 6825/10595 [00:07<00:04, 936.57it/s]\u001b[A\n",
      " 65%|██████▌   | 6926/10595 [00:07<00:03, 954.18it/s]\u001b[A\n",
      " 66%|██████▋   | 7024/10595 [00:07<00:03, 959.33it/s]\u001b[A\n",
      " 67%|██████▋   | 7134/10595 [00:07<00:03, 997.61it/s]\u001b[A\n",
      " 69%|██████▊   | 7263/10595 [00:07<00:03, 1082.85it/s]\u001b[A\n",
      " 70%|██████▉   | 7390/10595 [00:07<00:02, 1135.16it/s]\u001b[A\n",
      " 71%|███████   | 7505/10595 [00:07<00:02, 1102.28it/s]\u001b[A\n",
      " 72%|███████▏  | 7662/10595 [00:07<00:02, 1235.82it/s]\u001b[A\n",
      " 73%|███████▎  | 7787/10595 [00:07<00:02, 1156.41it/s]\u001b[A\n",
      " 75%|███████▍  | 7905/10595 [00:08<00:02, 1056.98it/s]\u001b[A\n",
      " 76%|███████▌  | 8014/10595 [00:08<00:02, 933.14it/s] \u001b[A\n",
      " 77%|███████▋  | 8125/10595 [00:08<00:02, 977.13it/s]\u001b[A\n",
      " 78%|███████▊  | 8227/10595 [00:08<00:02, 943.87it/s]\u001b[A\n",
      " 79%|███████▉  | 8347/10595 [00:08<00:02, 1010.75it/s]\u001b[A\n",
      " 80%|████████  | 8507/10595 [00:08<00:01, 1169.51it/s]\u001b[A\n",
      " 81%|████████▏ | 8629/10595 [00:08<00:01, 1182.08it/s]\u001b[A\n",
      " 83%|████████▎ | 8750/10595 [00:08<00:01, 1123.60it/s]\u001b[A\n",
      " 84%|████████▍ | 8940/10595 [00:08<00:01, 1338.03it/s]\u001b[A\n",
      " 86%|████████▌ | 9092/10595 [00:09<00:01, 1387.84it/s]\u001b[A\n",
      " 87%|████████▋ | 9235/10595 [00:09<00:00, 1398.02it/s]\u001b[A\n",
      " 89%|████████▊ | 9377/10595 [00:09<00:01, 1199.80it/s]\u001b[A\n",
      " 90%|████████▉ | 9503/10595 [00:09<00:01, 1086.75it/s]\u001b[A\n",
      " 91%|█████████ | 9645/10595 [00:09<00:00, 1169.98it/s]\u001b[A\n",
      " 92%|█████████▏| 9768/10595 [00:09<00:00, 1092.91it/s]\u001b[A\n",
      " 94%|█████████▎| 9915/10595 [00:09<00:00, 1189.21it/s]\u001b[A\n",
      " 95%|█████████▍| 10039/10595 [00:10<00:00, 1022.46it/s]\u001b[A\n",
      " 96%|█████████▌| 10176/10595 [00:10<00:00, 1107.05it/s]\u001b[A\n",
      " 97%|█████████▋| 10297/10595 [00:10<00:00, 1132.55it/s]\u001b[A\n",
      "100%|██████████| 10595/10595 [00:10<00:00, 1018.73it/s]\n",
      "\n",
      "  0%|          | 0/10595 [00:00<?, ?it/s]\u001b[A\n",
      "  1%|          | 107/10595 [00:00<00:09, 1065.88it/s]\u001b[A\n",
      "  2%|▏         | 219/10595 [00:00<00:10, 1019.68it/s]\u001b[A\n",
      "  3%|▎         | 365/10595 [00:00<00:08, 1210.79it/s]\u001b[A\n",
      "  5%|▍         | 520/10595 [00:00<00:07, 1339.15it/s]\u001b[A\n",
      "  6%|▌         | 655/10595 [00:00<00:07, 1250.98it/s]\u001b[A\n",
      "  7%|▋         | 782/10595 [00:00<00:09, 1053.59it/s]\u001b[A\n",
      "  8%|▊         | 893/10595 [00:00<00:09, 980.19it/s] \u001b[A\n",
      "  9%|▉         | 995/10595 [00:00<00:10, 950.80it/s]\u001b[A\n",
      " 10%|█         | 1093/10595 [00:01<00:10, 943.38it/s]\u001b[A\n",
      " 11%|█▏        | 1211/10595 [00:01<00:09, 1005.98it/s]\u001b[A\n",
      " 12%|█▏        | 1314/10595 [00:01<00:09, 973.68it/s] \u001b[A\n",
      " 13%|█▎        | 1422/10595 [00:01<00:09, 1002.67it/s]\u001b[A\n",
      " 14%|█▍        | 1524/10595 [00:01<00:09, 928.41it/s] \u001b[A\n",
      " 15%|█▌        | 1619/10595 [00:01<00:11, 815.35it/s]\u001b[A\n",
      " 16%|█▌        | 1706/10595 [00:01<00:10, 828.11it/s]\u001b[A\n",
      " 17%|█▋        | 1833/10595 [00:01<00:09, 945.15it/s]\u001b[A\n",
      " 19%|█▊        | 1963/10595 [00:01<00:08, 1041.77it/s]\u001b[A\n",
      " 20%|█▉        | 2082/10595 [00:02<00:07, 1081.98it/s]\u001b[A\n",
      " 21%|██        | 2193/10595 [00:02<00:08, 1020.39it/s]\u001b[A\n",
      " 22%|██▏       | 2303/10595 [00:02<00:07, 1042.23it/s]\u001b[A\n",
      " 23%|██▎       | 2422/10595 [00:02<00:07, 1082.39it/s]\u001b[A\n",
      " 24%|██▍       | 2549/10595 [00:02<00:07, 1134.25it/s]\u001b[A\n",
      " 25%|██▌       | 2664/10595 [00:02<00:07, 1080.37it/s]\u001b[A\n",
      " 26%|██▌       | 2774/10595 [00:02<00:07, 1028.39it/s]\u001b[A\n",
      " 27%|██▋       | 2879/10595 [00:02<00:07, 996.01it/s] \u001b[A\n",
      " 28%|██▊       | 2996/10595 [00:02<00:07, 1041.76it/s]\u001b[A\n",
      " 29%|██▉       | 3102/10595 [00:03<00:08, 928.06it/s] \u001b[A\n",
      " 30%|███       | 3198/10595 [00:03<00:07, 929.85it/s]\u001b[A\n",
      " 31%|███       | 3293/10595 [00:03<00:08, 885.81it/s]\u001b[A\n",
      " 32%|███▏      | 3413/10595 [00:03<00:07, 969.40it/s]\u001b[A\n",
      " 33%|███▎      | 3512/10595 [00:03<00:07, 965.87it/s]\u001b[A\n",
      " 34%|███▍      | 3610/10595 [00:03<00:07, 950.50it/s]\u001b[A\n",
      " 35%|███▌      | 3723/10595 [00:03<00:06, 996.98it/s]\u001b[A\n",
      " 36%|███▌      | 3824/10595 [00:03<00:07, 944.93it/s]\u001b[A\n",
      " 37%|███▋      | 3962/10595 [00:03<00:06, 1065.43it/s]\u001b[A\n",
      " 39%|███▉      | 4107/10595 [00:04<00:05, 1174.63it/s]\u001b[A\n",
      " 40%|███▉      | 4227/10595 [00:04<00:05, 1093.26it/s]\u001b[A\n",
      " 41%|████      | 4339/10595 [00:04<00:06, 968.58it/s] \u001b[A\n",
      " 42%|████▏     | 4440/10595 [00:04<00:06, 963.92it/s]\u001b[A\n",
      " 43%|████▎     | 4539/10595 [00:04<00:06, 967.45it/s]\u001b[A\n",
      " 44%|████▍     | 4638/10595 [00:04<00:06, 929.08it/s]\u001b[A\n",
      " 45%|████▍     | 4760/10595 [00:04<00:05, 1007.04it/s]\u001b[A\n",
      " 46%|████▌     | 4880/10595 [00:04<00:05, 1060.30it/s]\u001b[A\n",
      " 47%|████▋     | 5007/10595 [00:04<00:05, 1116.78it/s]\u001b[A\n",
      " 48%|████▊     | 5122/10595 [00:05<00:04, 1124.96it/s]\u001b[A\n",
      " 50%|████▉     | 5256/10595 [00:05<00:04, 1184.81it/s]\u001b[A\n",
      " 51%|█████     | 5376/10595 [00:05<00:04, 1176.61it/s]\u001b[A\n",
      " 52%|█████▏    | 5495/10595 [00:05<00:04, 1140.17it/s]\u001b[A\n",
      " 53%|█████▎    | 5624/10595 [00:05<00:04, 1181.73it/s]\u001b[A\n",
      " 54%|█████▍    | 5747/10595 [00:05<00:04, 1195.02it/s]\u001b[A\n",
      " 55%|█████▌    | 5877/10595 [00:05<00:03, 1225.43it/s]\u001b[A\n",
      " 57%|█████▋    | 6000/10595 [00:05<00:04, 1134.29it/s]\u001b[A\n",
      " 58%|█████▊    | 6115/10595 [00:05<00:04, 991.75it/s] \u001b[A\n",
      " 59%|█████▊    | 6219/10595 [00:06<00:05, 853.75it/s]\u001b[A\n",
      " 60%|█████▉    | 6310/10595 [00:06<00:05, 840.52it/s]\u001b[A\n",
      " 61%|██████    | 6430/10595 [00:06<00:04, 928.98it/s]\u001b[A\n",
      " 62%|██████▏   | 6528/10595 [00:06<00:04, 899.39it/s]\u001b[A\n",
      " 63%|██████▎   | 6649/10595 [00:06<00:04, 980.67it/s]\u001b[A\n",
      " 64%|██████▍   | 6779/10595 [00:06<00:03, 1066.32it/s]\u001b[A\n",
      " 65%|██████▌   | 6911/10595 [00:06<00:03, 1137.02it/s]\u001b[A\n",
      " 66%|██████▋   | 7028/10595 [00:06<00:03, 1139.21it/s]\u001b[A\n",
      " 67%|██████▋   | 7144/10595 [00:06<00:03, 1020.38it/s]\u001b[A\n",
      " 68%|██████▊   | 7250/10595 [00:07<00:03, 873.76it/s] \u001b[A\n",
      " 69%|██████▉   | 7343/10595 [00:07<00:04, 759.82it/s]\u001b[A\n",
      " 70%|███████   | 7425/10595 [00:07<00:04, 736.12it/s]\u001b[A\n",
      " 71%|███████   | 7525/10595 [00:07<00:03, 796.53it/s]\u001b[A\n",
      " 72%|███████▏  | 7609/10595 [00:07<00:03, 789.55it/s]\u001b[A\n",
      " 73%|███████▎  | 7724/10595 [00:07<00:03, 883.39it/s]\u001b[A\n",
      " 74%|███████▍  | 7828/10595 [00:07<00:02, 924.46it/s]\u001b[A\n",
      " 75%|███████▍  | 7924/10595 [00:07<00:03, 887.26it/s]\u001b[A\n",
      " 76%|███████▌  | 8037/10595 [00:08<00:02, 953.78it/s]\u001b[A\n",
      " 77%|███████▋  | 8192/10595 [00:08<00:02, 1120.80it/s]\u001b[A\n",
      " 79%|███████▉  | 8357/10595 [00:08<00:01, 1271.84it/s]\u001b[A\n",
      " 80%|████████  | 8487/10595 [00:08<00:01, 1103.91it/s]\u001b[A\n",
      " 81%|████████  | 8603/10595 [00:08<00:02, 986.74it/s] \u001b[A\n",
      " 82%|████████▏ | 8708/10595 [00:08<00:02, 878.86it/s]\u001b[A\n",
      " 83%|████████▎ | 8802/10595 [00:08<00:02, 889.00it/s]\u001b[A\n",
      " 84%|████████▍ | 8895/10595 [00:08<00:02, 803.53it/s]\u001b[A\n",
      " 85%|████████▍ | 8979/10595 [00:09<00:02, 786.28it/s]\u001b[A\n",
      " 86%|████████▌ | 9070/10595 [00:09<00:01, 815.24it/s]\u001b[A\n",
      " 86%|████████▋ | 9154/10595 [00:09<00:01, 780.35it/s]\u001b[A\n",
      " 87%|████████▋ | 9234/10595 [00:09<00:01, 700.33it/s]\u001b[A\n",
      " 88%|████████▊ | 9347/10595 [00:09<00:01, 806.51it/s]\u001b[A\n",
      " 89%|████████▉ | 9460/10595 [00:09<00:01, 889.07it/s]\u001b[A\n",
      " 91%|█████████ | 9626/10595 [00:09<00:00, 971.40it/s]\n"
     ]
    },
    {
     "output_type": "error",
     "ename": "KeyboardInterrupt",
     "evalue": "",
     "traceback": [
      "\u001b[0;31m---------------------------------------------------------------------------\u001b[0m",
      "\u001b[0;31mKeyboardInterrupt\u001b[0m                         Traceback (most recent call last)",
      "\u001b[0;32m/tmp/ipykernel_2537/574276968.py\u001b[0m in \u001b[0;36m<module>\u001b[0;34m\u001b[0m\n\u001b[1;32m     15\u001b[0m \u001b[0;34m\u001b[0m\u001b[0m\n\u001b[1;32m     16\u001b[0m \u001b[0;34m\u001b[0m\u001b[0m\n\u001b[0;32m---> 17\u001b[0;31m \u001b[0mdf_filter\u001b[0m\u001b[0;34m[\u001b[0m\u001b[0;34m'University Name'\u001b[0m\u001b[0;34m]\u001b[0m \u001b[0;34m=\u001b[0m \u001b[0mdf_filter\u001b[0m\u001b[0;34m[\u001b[0m\u001b[0;34m'message'\u001b[0m\u001b[0;34m]\u001b[0m\u001b[0;34m.\u001b[0m\u001b[0mapply\u001b[0m\u001b[0;34m(\u001b[0m\u001b[0mget_university_name\u001b[0m\u001b[0;34m)\u001b[0m\u001b[0;34m\u001b[0m\u001b[0;34m\u001b[0m\u001b[0m\n\u001b[0m",
      "\u001b[0;32m~/repos/f1_visa_interview/lib/python3.8/site-packages/pandas/core/series.py\u001b[0m in \u001b[0;36mapply\u001b[0;34m(self, func, convert_dtype, args, **kwargs)\u001b[0m\n\u001b[1;32m   4354\u001b[0m         \u001b[0mdtype\u001b[0m\u001b[0;34m:\u001b[0m \u001b[0mfloat64\u001b[0m\u001b[0;34m\u001b[0m\u001b[0;34m\u001b[0m\u001b[0m\n\u001b[1;32m   4355\u001b[0m         \"\"\"\n\u001b[0;32m-> 4356\u001b[0;31m         \u001b[0;32mreturn\u001b[0m \u001b[0mSeriesApply\u001b[0m\u001b[0;34m(\u001b[0m\u001b[0mself\u001b[0m\u001b[0;34m,\u001b[0m \u001b[0mfunc\u001b[0m\u001b[0;34m,\u001b[0m \u001b[0mconvert_dtype\u001b[0m\u001b[0;34m,\u001b[0m \u001b[0margs\u001b[0m\u001b[0;34m,\u001b[0m \u001b[0mkwargs\u001b[0m\u001b[0;34m)\u001b[0m\u001b[0;34m.\u001b[0m\u001b[0mapply\u001b[0m\u001b[0;34m(\u001b[0m\u001b[0;34m)\u001b[0m\u001b[0;34m\u001b[0m\u001b[0;34m\u001b[0m\u001b[0m\n\u001b[0m\u001b[1;32m   4357\u001b[0m \u001b[0;34m\u001b[0m\u001b[0m\n\u001b[1;32m   4358\u001b[0m     def _reduce(\n",
      "\u001b[0;32m~/repos/f1_visa_interview/lib/python3.8/site-packages/pandas/core/apply.py\u001b[0m in \u001b[0;36mapply\u001b[0;34m(self)\u001b[0m\n\u001b[1;32m   1034\u001b[0m             \u001b[0;32mreturn\u001b[0m \u001b[0mself\u001b[0m\u001b[0;34m.\u001b[0m\u001b[0mapply_str\u001b[0m\u001b[0;34m(\u001b[0m\u001b[0;34m)\u001b[0m\u001b[0;34m\u001b[0m\u001b[0;34m\u001b[0m\u001b[0m\n\u001b[1;32m   1035\u001b[0m \u001b[0;34m\u001b[0m\u001b[0m\n\u001b[0;32m-> 1036\u001b[0;31m         \u001b[0;32mreturn\u001b[0m \u001b[0mself\u001b[0m\u001b[0;34m.\u001b[0m\u001b[0mapply_standard\u001b[0m\u001b[0;34m(\u001b[0m\u001b[0;34m)\u001b[0m\u001b[0;34m\u001b[0m\u001b[0;34m\u001b[0m\u001b[0m\n\u001b[0m\u001b[1;32m   1037\u001b[0m \u001b[0;34m\u001b[0m\u001b[0m\n\u001b[1;32m   1038\u001b[0m     \u001b[0;32mdef\u001b[0m \u001b[0magg\u001b[0m\u001b[0;34m(\u001b[0m\u001b[0mself\u001b[0m\u001b[0;34m)\u001b[0m\u001b[0;34m:\u001b[0m\u001b[0;34m\u001b[0m\u001b[0;34m\u001b[0m\u001b[0m\n",
      "\u001b[0;32m~/repos/f1_visa_interview/lib/python3.8/site-packages/pandas/core/apply.py\u001b[0m in \u001b[0;36mapply_standard\u001b[0;34m(self)\u001b[0m\n\u001b[1;32m   1090\u001b[0m                 \u001b[0;31m# List[Union[Callable[..., Any], str]]]]]\"; expected\u001b[0m\u001b[0;34m\u001b[0m\u001b[0;34m\u001b[0m\u001b[0;34m\u001b[0m\u001b[0m\n\u001b[1;32m   1091\u001b[0m                 \u001b[0;31m# \"Callable[[Any], Any]\"\u001b[0m\u001b[0;34m\u001b[0m\u001b[0;34m\u001b[0m\u001b[0;34m\u001b[0m\u001b[0m\n\u001b[0;32m-> 1092\u001b[0;31m                 mapped = lib.map_infer(\n\u001b[0m\u001b[1;32m   1093\u001b[0m                     \u001b[0mvalues\u001b[0m\u001b[0;34m,\u001b[0m\u001b[0;34m\u001b[0m\u001b[0;34m\u001b[0m\u001b[0m\n\u001b[1;32m   1094\u001b[0m                     \u001b[0mf\u001b[0m\u001b[0;34m,\u001b[0m  \u001b[0;31m# type: ignore[arg-type]\u001b[0m\u001b[0;34m\u001b[0m\u001b[0;34m\u001b[0m\u001b[0m\n",
      "\u001b[0;32m~/repos/f1_visa_interview/lib/python3.8/site-packages/pandas/_libs/lib.pyx\u001b[0m in \u001b[0;36mpandas._libs.lib.map_infer\u001b[0;34m()\u001b[0m\n",
      "\u001b[0;32m/tmp/ipykernel_2537/574276968.py\u001b[0m in \u001b[0;36mget_university_name\u001b[0;34m(message)\u001b[0m\n\u001b[1;32m      9\u001b[0m     \u001b[0;32mfor\u001b[0m \u001b[0m_unv_name\u001b[0m \u001b[0;32min\u001b[0m \u001b[0mtqdm\u001b[0m\u001b[0;34m(\u001b[0m\u001b[0munique_university_names\u001b[0m\u001b[0;34m)\u001b[0m\u001b[0;34m:\u001b[0m\u001b[0;34m\u001b[0m\u001b[0;34m\u001b[0m\u001b[0m\n\u001b[1;32m     10\u001b[0m         \u001b[0mstr1\u001b[0m\u001b[0;34m,\u001b[0m \u001b[0mstr2\u001b[0m \u001b[0;34m=\u001b[0m \u001b[0mmessage\u001b[0m\u001b[0;34m,\u001b[0m \u001b[0m_unv_name\u001b[0m\u001b[0;34m\u001b[0m\u001b[0;34m\u001b[0m\u001b[0m\n\u001b[0;32m---> 11\u001b[0;31m         \u001b[0mtoken_set_ratio\u001b[0m \u001b[0;34m=\u001b[0m \u001b[0mfuzz\u001b[0m\u001b[0;34m.\u001b[0m\u001b[0mtoken_set_ratio\u001b[0m\u001b[0;34m(\u001b[0m\u001b[0mStr1\u001b[0m\u001b[0;34m,\u001b[0m\u001b[0mStr2\u001b[0m\u001b[0;34m)\u001b[0m\u001b[0;34m\u001b[0m\u001b[0;34m\u001b[0m\u001b[0m\n\u001b[0m\u001b[1;32m     12\u001b[0m         \u001b[0mtoken_set_ratio_list\u001b[0m\u001b[0;34m.\u001b[0m\u001b[0mappend\u001b[0m\u001b[0;34m(\u001b[0m\u001b[0mtoken_set_ratio\u001b[0m\u001b[0;34m)\u001b[0m\u001b[0;34m\u001b[0m\u001b[0;34m\u001b[0m\u001b[0m\n\u001b[1;32m     13\u001b[0m     \u001b[0mindex\u001b[0m \u001b[0;34m=\u001b[0m \u001b[0mnp\u001b[0m\u001b[0;34m.\u001b[0m\u001b[0margmax\u001b[0m\u001b[0;34m(\u001b[0m\u001b[0mtoken_set_ratio_list\u001b[0m\u001b[0;34m)\u001b[0m\u001b[0;34m\u001b[0m\u001b[0;34m\u001b[0m\u001b[0m\n",
      "\u001b[0;32m~/repos/f1_visa_interview/lib/python3.8/site-packages/fuzzywuzzy/fuzz.py\u001b[0m in \u001b[0;36mtoken_set_ratio\u001b[0;34m(s1, s2, force_ascii, full_process)\u001b[0m\n\u001b[1;32m    167\u001b[0m \u001b[0;34m\u001b[0m\u001b[0m\n\u001b[1;32m    168\u001b[0m \u001b[0;32mdef\u001b[0m \u001b[0mtoken_set_ratio\u001b[0m\u001b[0;34m(\u001b[0m\u001b[0ms1\u001b[0m\u001b[0;34m,\u001b[0m \u001b[0ms2\u001b[0m\u001b[0;34m,\u001b[0m \u001b[0mforce_ascii\u001b[0m\u001b[0;34m=\u001b[0m\u001b[0;32mTrue\u001b[0m\u001b[0;34m,\u001b[0m \u001b[0mfull_process\u001b[0m\u001b[0;34m=\u001b[0m\u001b[0;32mTrue\u001b[0m\u001b[0;34m)\u001b[0m\u001b[0;34m:\u001b[0m\u001b[0;34m\u001b[0m\u001b[0;34m\u001b[0m\u001b[0m\n\u001b[0;32m--> 169\u001b[0;31m     \u001b[0;32mreturn\u001b[0m \u001b[0m_token_set\u001b[0m\u001b[0;34m(\u001b[0m\u001b[0ms1\u001b[0m\u001b[0;34m,\u001b[0m \u001b[0ms2\u001b[0m\u001b[0;34m,\u001b[0m \u001b[0mpartial\u001b[0m\u001b[0;34m=\u001b[0m\u001b[0;32mFalse\u001b[0m\u001b[0;34m,\u001b[0m \u001b[0mforce_ascii\u001b[0m\u001b[0;34m=\u001b[0m\u001b[0mforce_ascii\u001b[0m\u001b[0;34m,\u001b[0m \u001b[0mfull_process\u001b[0m\u001b[0;34m=\u001b[0m\u001b[0mfull_process\u001b[0m\u001b[0;34m)\u001b[0m\u001b[0;34m\u001b[0m\u001b[0;34m\u001b[0m\u001b[0m\n\u001b[0m\u001b[1;32m    170\u001b[0m \u001b[0;34m\u001b[0m\u001b[0m\n\u001b[1;32m    171\u001b[0m \u001b[0;34m\u001b[0m\u001b[0m\n",
      "\u001b[0;32m~/repos/f1_visa_interview/lib/python3.8/site-packages/fuzzywuzzy/utils.py\u001b[0m in \u001b[0;36mdecorator\u001b[0;34m(*args, **kwargs)\u001b[0m\n\u001b[1;32m     36\u001b[0m         \u001b[0;32mif\u001b[0m \u001b[0margs\u001b[0m\u001b[0;34m[\u001b[0m\u001b[0;36m0\u001b[0m\u001b[0;34m]\u001b[0m \u001b[0;32mis\u001b[0m \u001b[0;32mNone\u001b[0m \u001b[0;32mor\u001b[0m \u001b[0margs\u001b[0m\u001b[0;34m[\u001b[0m\u001b[0;36m1\u001b[0m\u001b[0;34m]\u001b[0m \u001b[0;32mis\u001b[0m \u001b[0;32mNone\u001b[0m\u001b[0;34m:\u001b[0m\u001b[0;34m\u001b[0m\u001b[0;34m\u001b[0m\u001b[0m\n\u001b[1;32m     37\u001b[0m             \u001b[0;32mreturn\u001b[0m \u001b[0;36m0\u001b[0m\u001b[0;34m\u001b[0m\u001b[0;34m\u001b[0m\u001b[0m\n\u001b[0;32m---> 38\u001b[0;31m         \u001b[0;32mreturn\u001b[0m \u001b[0mfunc\u001b[0m\u001b[0;34m(\u001b[0m\u001b[0;34m*\u001b[0m\u001b[0margs\u001b[0m\u001b[0;34m,\u001b[0m \u001b[0;34m**\u001b[0m\u001b[0mkwargs\u001b[0m\u001b[0;34m)\u001b[0m\u001b[0;34m\u001b[0m\u001b[0;34m\u001b[0m\u001b[0m\n\u001b[0m\u001b[1;32m     39\u001b[0m     \u001b[0;32mreturn\u001b[0m \u001b[0mdecorator\u001b[0m\u001b[0;34m\u001b[0m\u001b[0;34m\u001b[0m\u001b[0m\n\u001b[1;32m     40\u001b[0m \u001b[0;34m\u001b[0m\u001b[0m\n",
      "\u001b[0;32m~/repos/f1_visa_interview/lib/python3.8/site-packages/fuzzywuzzy/fuzz.py\u001b[0m in \u001b[0;36m_token_set\u001b[0;34m(s1, s2, partial, force_ascii, full_process)\u001b[0m\n\u001b[1;32m    159\u001b[0m \u001b[0;34m\u001b[0m\u001b[0m\n\u001b[1;32m    160\u001b[0m     pairwise = [\n\u001b[0;32m--> 161\u001b[0;31m         \u001b[0mratio_func\u001b[0m\u001b[0;34m(\u001b[0m\u001b[0msorted_sect\u001b[0m\u001b[0;34m,\u001b[0m \u001b[0mcombined_1to2\u001b[0m\u001b[0;34m)\u001b[0m\u001b[0;34m,\u001b[0m\u001b[0;34m\u001b[0m\u001b[0;34m\u001b[0m\u001b[0m\n\u001b[0m\u001b[1;32m    162\u001b[0m         \u001b[0mratio_func\u001b[0m\u001b[0;34m(\u001b[0m\u001b[0msorted_sect\u001b[0m\u001b[0;34m,\u001b[0m \u001b[0mcombined_2to1\u001b[0m\u001b[0;34m)\u001b[0m\u001b[0;34m,\u001b[0m\u001b[0;34m\u001b[0m\u001b[0;34m\u001b[0m\u001b[0m\n\u001b[1;32m    163\u001b[0m         \u001b[0mratio_func\u001b[0m\u001b[0;34m(\u001b[0m\u001b[0mcombined_1to2\u001b[0m\u001b[0;34m,\u001b[0m \u001b[0mcombined_2to1\u001b[0m\u001b[0;34m)\u001b[0m\u001b[0;34m\u001b[0m\u001b[0;34m\u001b[0m\u001b[0m\n",
      "\u001b[0;32m~/repos/f1_visa_interview/lib/python3.8/site-packages/fuzzywuzzy/utils.py\u001b[0m in \u001b[0;36mdecorator\u001b[0;34m(*args, **kwargs)\u001b[0m\n\u001b[1;32m     36\u001b[0m         \u001b[0;32mif\u001b[0m \u001b[0margs\u001b[0m\u001b[0;34m[\u001b[0m\u001b[0;36m0\u001b[0m\u001b[0;34m]\u001b[0m \u001b[0;32mis\u001b[0m \u001b[0;32mNone\u001b[0m \u001b[0;32mor\u001b[0m \u001b[0margs\u001b[0m\u001b[0;34m[\u001b[0m\u001b[0;36m1\u001b[0m\u001b[0;34m]\u001b[0m \u001b[0;32mis\u001b[0m \u001b[0;32mNone\u001b[0m\u001b[0;34m:\u001b[0m\u001b[0;34m\u001b[0m\u001b[0;34m\u001b[0m\u001b[0m\n\u001b[1;32m     37\u001b[0m             \u001b[0;32mreturn\u001b[0m \u001b[0;36m0\u001b[0m\u001b[0;34m\u001b[0m\u001b[0;34m\u001b[0m\u001b[0m\n\u001b[0;32m---> 38\u001b[0;31m         \u001b[0;32mreturn\u001b[0m \u001b[0mfunc\u001b[0m\u001b[0;34m(\u001b[0m\u001b[0;34m*\u001b[0m\u001b[0margs\u001b[0m\u001b[0;34m,\u001b[0m \u001b[0;34m**\u001b[0m\u001b[0mkwargs\u001b[0m\u001b[0;34m)\u001b[0m\u001b[0;34m\u001b[0m\u001b[0;34m\u001b[0m\u001b[0m\n\u001b[0m\u001b[1;32m     39\u001b[0m     \u001b[0;32mreturn\u001b[0m \u001b[0mdecorator\u001b[0m\u001b[0;34m\u001b[0m\u001b[0;34m\u001b[0m\u001b[0m\n\u001b[1;32m     40\u001b[0m \u001b[0;34m\u001b[0m\u001b[0m\n",
      "\u001b[0;32m~/repos/f1_visa_interview/lib/python3.8/site-packages/fuzzywuzzy/utils.py\u001b[0m in \u001b[0;36mdecorator\u001b[0;34m(*args, **kwargs)\u001b[0m\n\u001b[1;32m     27\u001b[0m         \u001b[0;32mif\u001b[0m \u001b[0margs\u001b[0m\u001b[0;34m[\u001b[0m\u001b[0;36m0\u001b[0m\u001b[0;34m]\u001b[0m \u001b[0;34m==\u001b[0m \u001b[0margs\u001b[0m\u001b[0;34m[\u001b[0m\u001b[0;36m1\u001b[0m\u001b[0;34m]\u001b[0m\u001b[0;34m:\u001b[0m\u001b[0;34m\u001b[0m\u001b[0;34m\u001b[0m\u001b[0m\n\u001b[1;32m     28\u001b[0m             \u001b[0;32mreturn\u001b[0m \u001b[0;36m100\u001b[0m\u001b[0;34m\u001b[0m\u001b[0;34m\u001b[0m\u001b[0m\n\u001b[0;32m---> 29\u001b[0;31m         \u001b[0;32mreturn\u001b[0m \u001b[0mfunc\u001b[0m\u001b[0;34m(\u001b[0m\u001b[0;34m*\u001b[0m\u001b[0margs\u001b[0m\u001b[0;34m,\u001b[0m \u001b[0;34m**\u001b[0m\u001b[0mkwargs\u001b[0m\u001b[0;34m)\u001b[0m\u001b[0;34m\u001b[0m\u001b[0;34m\u001b[0m\u001b[0m\n\u001b[0m\u001b[1;32m     30\u001b[0m     \u001b[0;32mreturn\u001b[0m \u001b[0mdecorator\u001b[0m\u001b[0;34m\u001b[0m\u001b[0;34m\u001b[0m\u001b[0m\n\u001b[1;32m     31\u001b[0m \u001b[0;34m\u001b[0m\u001b[0m\n",
      "\u001b[0;32m~/repos/f1_visa_interview/lib/python3.8/site-packages/fuzzywuzzy/utils.py\u001b[0m in \u001b[0;36mdecorator\u001b[0;34m(*args, **kwargs)\u001b[0m\n\u001b[1;32m     45\u001b[0m         \u001b[0;32mif\u001b[0m \u001b[0mlen\u001b[0m\u001b[0;34m(\u001b[0m\u001b[0margs\u001b[0m\u001b[0;34m[\u001b[0m\u001b[0;36m0\u001b[0m\u001b[0;34m]\u001b[0m\u001b[0;34m)\u001b[0m \u001b[0;34m==\u001b[0m \u001b[0;36m0\u001b[0m \u001b[0;32mor\u001b[0m \u001b[0mlen\u001b[0m\u001b[0;34m(\u001b[0m\u001b[0margs\u001b[0m\u001b[0;34m[\u001b[0m\u001b[0;36m1\u001b[0m\u001b[0;34m]\u001b[0m\u001b[0;34m)\u001b[0m \u001b[0;34m==\u001b[0m \u001b[0;36m0\u001b[0m\u001b[0;34m:\u001b[0m\u001b[0;34m\u001b[0m\u001b[0;34m\u001b[0m\u001b[0m\n\u001b[1;32m     46\u001b[0m             \u001b[0;32mreturn\u001b[0m \u001b[0;36m0\u001b[0m\u001b[0;34m\u001b[0m\u001b[0;34m\u001b[0m\u001b[0m\n\u001b[0;32m---> 47\u001b[0;31m         \u001b[0;32mreturn\u001b[0m \u001b[0mfunc\u001b[0m\u001b[0;34m(\u001b[0m\u001b[0;34m*\u001b[0m\u001b[0margs\u001b[0m\u001b[0;34m,\u001b[0m \u001b[0;34m**\u001b[0m\u001b[0mkwargs\u001b[0m\u001b[0;34m)\u001b[0m\u001b[0;34m\u001b[0m\u001b[0;34m\u001b[0m\u001b[0m\n\u001b[0m\u001b[1;32m     48\u001b[0m     \u001b[0;32mreturn\u001b[0m \u001b[0mdecorator\u001b[0m\u001b[0;34m\u001b[0m\u001b[0;34m\u001b[0m\u001b[0m\n\u001b[1;32m     49\u001b[0m \u001b[0;34m\u001b[0m\u001b[0m\n",
      "\u001b[0;32m~/repos/f1_visa_interview/lib/python3.8/site-packages/fuzzywuzzy/fuzz.py\u001b[0m in \u001b[0;36mratio\u001b[0;34m(s1, s2)\u001b[0m\n\u001b[1;32m     25\u001b[0m     \u001b[0ms1\u001b[0m\u001b[0;34m,\u001b[0m \u001b[0ms2\u001b[0m \u001b[0;34m=\u001b[0m \u001b[0mutils\u001b[0m\u001b[0;34m.\u001b[0m\u001b[0mmake_type_consistent\u001b[0m\u001b[0;34m(\u001b[0m\u001b[0ms1\u001b[0m\u001b[0;34m,\u001b[0m \u001b[0ms2\u001b[0m\u001b[0;34m)\u001b[0m\u001b[0;34m\u001b[0m\u001b[0;34m\u001b[0m\u001b[0m\n\u001b[1;32m     26\u001b[0m \u001b[0;34m\u001b[0m\u001b[0m\n\u001b[0;32m---> 27\u001b[0;31m     \u001b[0mm\u001b[0m \u001b[0;34m=\u001b[0m \u001b[0mSequenceMatcher\u001b[0m\u001b[0;34m(\u001b[0m\u001b[0;32mNone\u001b[0m\u001b[0;34m,\u001b[0m \u001b[0ms1\u001b[0m\u001b[0;34m,\u001b[0m \u001b[0ms2\u001b[0m\u001b[0;34m)\u001b[0m\u001b[0;34m\u001b[0m\u001b[0;34m\u001b[0m\u001b[0m\n\u001b[0m\u001b[1;32m     28\u001b[0m     \u001b[0;32mreturn\u001b[0m \u001b[0mutils\u001b[0m\u001b[0;34m.\u001b[0m\u001b[0mintr\u001b[0m\u001b[0;34m(\u001b[0m\u001b[0;36m100\u001b[0m \u001b[0;34m*\u001b[0m \u001b[0mm\u001b[0m\u001b[0;34m.\u001b[0m\u001b[0mratio\u001b[0m\u001b[0;34m(\u001b[0m\u001b[0;34m)\u001b[0m\u001b[0;34m)\u001b[0m\u001b[0;34m\u001b[0m\u001b[0;34m\u001b[0m\u001b[0m\n\u001b[1;32m     29\u001b[0m \u001b[0;34m\u001b[0m\u001b[0m\n",
      "\u001b[0;32m/usr/lib/python3.8/difflib.py\u001b[0m in \u001b[0;36m__init__\u001b[0;34m(self, isjunk, a, b, autojunk)\u001b[0m\n\u001b[1;32m    211\u001b[0m         \u001b[0mself\u001b[0m\u001b[0;34m.\u001b[0m\u001b[0ma\u001b[0m \u001b[0;34m=\u001b[0m \u001b[0mself\u001b[0m\u001b[0;34m.\u001b[0m\u001b[0mb\u001b[0m \u001b[0;34m=\u001b[0m \u001b[0;32mNone\u001b[0m\u001b[0;34m\u001b[0m\u001b[0;34m\u001b[0m\u001b[0m\n\u001b[1;32m    212\u001b[0m         \u001b[0mself\u001b[0m\u001b[0;34m.\u001b[0m\u001b[0mautojunk\u001b[0m \u001b[0;34m=\u001b[0m \u001b[0mautojunk\u001b[0m\u001b[0;34m\u001b[0m\u001b[0;34m\u001b[0m\u001b[0m\n\u001b[0;32m--> 213\u001b[0;31m         \u001b[0mself\u001b[0m\u001b[0;34m.\u001b[0m\u001b[0mset_seqs\u001b[0m\u001b[0;34m(\u001b[0m\u001b[0ma\u001b[0m\u001b[0;34m,\u001b[0m \u001b[0mb\u001b[0m\u001b[0;34m)\u001b[0m\u001b[0;34m\u001b[0m\u001b[0;34m\u001b[0m\u001b[0m\n\u001b[0m\u001b[1;32m    214\u001b[0m \u001b[0;34m\u001b[0m\u001b[0m\n\u001b[1;32m    215\u001b[0m     \u001b[0;32mdef\u001b[0m \u001b[0mset_seqs\u001b[0m\u001b[0;34m(\u001b[0m\u001b[0mself\u001b[0m\u001b[0;34m,\u001b[0m \u001b[0ma\u001b[0m\u001b[0;34m,\u001b[0m \u001b[0mb\u001b[0m\u001b[0;34m)\u001b[0m\u001b[0;34m:\u001b[0m\u001b[0;34m\u001b[0m\u001b[0;34m\u001b[0m\u001b[0m\n",
      "\u001b[0;32m/usr/lib/python3.8/difflib.py\u001b[0m in \u001b[0;36mset_seqs\u001b[0;34m(self, a, b)\u001b[0m\n\u001b[1;32m    223\u001b[0m \u001b[0;34m\u001b[0m\u001b[0m\n\u001b[1;32m    224\u001b[0m         \u001b[0mself\u001b[0m\u001b[0;34m.\u001b[0m\u001b[0mset_seq1\u001b[0m\u001b[0;34m(\u001b[0m\u001b[0ma\u001b[0m\u001b[0;34m)\u001b[0m\u001b[0;34m\u001b[0m\u001b[0;34m\u001b[0m\u001b[0m\n\u001b[0;32m--> 225\u001b[0;31m         \u001b[0mself\u001b[0m\u001b[0;34m.\u001b[0m\u001b[0mset_seq2\u001b[0m\u001b[0;34m(\u001b[0m\u001b[0mb\u001b[0m\u001b[0;34m)\u001b[0m\u001b[0;34m\u001b[0m\u001b[0;34m\u001b[0m\u001b[0m\n\u001b[0m\u001b[1;32m    226\u001b[0m \u001b[0;34m\u001b[0m\u001b[0m\n\u001b[1;32m    227\u001b[0m     \u001b[0;32mdef\u001b[0m \u001b[0mset_seq1\u001b[0m\u001b[0;34m(\u001b[0m\u001b[0mself\u001b[0m\u001b[0;34m,\u001b[0m \u001b[0ma\u001b[0m\u001b[0;34m)\u001b[0m\u001b[0;34m:\u001b[0m\u001b[0;34m\u001b[0m\u001b[0;34m\u001b[0m\u001b[0m\n",
      "\u001b[0;32m/usr/lib/python3.8/difflib.py\u001b[0m in \u001b[0;36mset_seq2\u001b[0;34m(self, b)\u001b[0m\n\u001b[1;32m    277\u001b[0m         \u001b[0mself\u001b[0m\u001b[0;34m.\u001b[0m\u001b[0mmatching_blocks\u001b[0m \u001b[0;34m=\u001b[0m \u001b[0mself\u001b[0m\u001b[0;34m.\u001b[0m\u001b[0mopcodes\u001b[0m \u001b[0;34m=\u001b[0m \u001b[0;32mNone\u001b[0m\u001b[0;34m\u001b[0m\u001b[0;34m\u001b[0m\u001b[0m\n\u001b[1;32m    278\u001b[0m         \u001b[0mself\u001b[0m\u001b[0;34m.\u001b[0m\u001b[0mfullbcount\u001b[0m \u001b[0;34m=\u001b[0m \u001b[0;32mNone\u001b[0m\u001b[0;34m\u001b[0m\u001b[0;34m\u001b[0m\u001b[0m\n\u001b[0;32m--> 279\u001b[0;31m         \u001b[0mself\u001b[0m\u001b[0;34m.\u001b[0m\u001b[0m__chain_b\u001b[0m\u001b[0;34m(\u001b[0m\u001b[0;34m)\u001b[0m\u001b[0;34m\u001b[0m\u001b[0;34m\u001b[0m\u001b[0m\n\u001b[0m\u001b[1;32m    280\u001b[0m \u001b[0;34m\u001b[0m\u001b[0m\n\u001b[1;32m    281\u001b[0m     \u001b[0;31m# For each element x in b, set b2j[x] to a list of the indices in\u001b[0m\u001b[0;34m\u001b[0m\u001b[0;34m\u001b[0m\u001b[0;34m\u001b[0m\u001b[0m\n",
      "\u001b[0;32m/usr/lib/python3.8/difflib.py\u001b[0m in \u001b[0;36m__chain_b\u001b[0;34m(self)\u001b[0m\n\u001b[1;32m    311\u001b[0m         \u001b[0;32mfor\u001b[0m \u001b[0mi\u001b[0m\u001b[0;34m,\u001b[0m \u001b[0melt\u001b[0m \u001b[0;32min\u001b[0m \u001b[0menumerate\u001b[0m\u001b[0;34m(\u001b[0m\u001b[0mb\u001b[0m\u001b[0;34m)\u001b[0m\u001b[0;34m:\u001b[0m\u001b[0;34m\u001b[0m\u001b[0;34m\u001b[0m\u001b[0m\n\u001b[1;32m    312\u001b[0m             \u001b[0mindices\u001b[0m \u001b[0;34m=\u001b[0m \u001b[0mb2j\u001b[0m\u001b[0;34m.\u001b[0m\u001b[0msetdefault\u001b[0m\u001b[0;34m(\u001b[0m\u001b[0melt\u001b[0m\u001b[0;34m,\u001b[0m \u001b[0;34m[\u001b[0m\u001b[0;34m]\u001b[0m\u001b[0;34m)\u001b[0m\u001b[0;34m\u001b[0m\u001b[0;34m\u001b[0m\u001b[0m\n\u001b[0;32m--> 313\u001b[0;31m             \u001b[0mindices\u001b[0m\u001b[0;34m.\u001b[0m\u001b[0mappend\u001b[0m\u001b[0;34m(\u001b[0m\u001b[0mi\u001b[0m\u001b[0;34m)\u001b[0m\u001b[0;34m\u001b[0m\u001b[0;34m\u001b[0m\u001b[0m\n\u001b[0m\u001b[1;32m    314\u001b[0m \u001b[0;34m\u001b[0m\u001b[0m\n\u001b[1;32m    315\u001b[0m         \u001b[0;31m# Purge junk elements\u001b[0m\u001b[0;34m\u001b[0m\u001b[0;34m\u001b[0m\u001b[0;34m\u001b[0m\u001b[0m\n",
      "\u001b[0;31mKeyboardInterrupt\u001b[0m: "
     ]
    }
   ],
   "source": [
    "from fuzzywuzzy import fuzz\n",
    "import numpy as np\n",
    "# from tqdm import tqdm\n",
    " \n",
    "# https://www.datacamp.com/community/tutorials/fuzzy-string-python\n",
    "\n",
    "def get_university_name(message):\n",
    "    max, max_index = 0, 'na'\n",
    "    for unv_index, _unv_name in enumerate(unique_university_names):\n",
    "        str1, str2 = message, _unv_name\n",
    "        token_set_ratio = fuzz.token_set_ratio(Str1,Str2)\n",
    "        # token_set_ratio_list.append(token_set_ratio)\n",
    "        if token_set_ratio > max:\n",
    "            max = token_set_ratio\n",
    "            max_index = unv_index\n",
    "    # index = np.argmax(token_set_ratio_list)\n",
    "    return unique_university_names[max_index]\n",
    "\n",
    "\n",
    "df_filter['University Name'] = df_filter['message'].apply(get_university_name)"
   ]
  },
  {
   "cell_type": "code",
   "execution_count": null,
   "metadata": {},
   "outputs": [],
   "source": []
  }
 ]
}